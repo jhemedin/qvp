{
 "cells": [
  {
   "cell_type": "code",
   "execution_count": null,
   "metadata": {},
   "outputs": [],
   "source": [
    "import warnings\n",
    "warnings.filterwarnings('ignore')\n",
    "\n",
    "import os\n",
    "os.environ['PROJ_LIB'] = '/home/jhemedinger/anaconda3/envs/qvp_env/share/proj/'\n",
    "from dask_jobqueue import SLURMCluster\n",
    "from dask.distributed import Client, metrics, wait\n",
    "# wait for jobs to arrive, depending on the queue, this may take some time\n",
    "import dask.array as da\n",
    "import dask.bag as db\n",
    "import numpy as np\n",
    "from dask.diagnostics import Profiler, ResourceProfiler, CacheProfiler, progress\n",
    "import pyart\n",
    "import netCDF4\n",
    "import xarray\n",
    "import tempfile\n",
    "import shutil\n",
    "from netCDF4 import num2date\n",
    "import json\n",
    "#from time import strftime, sleep\n",
    "import datetime\n",
    "import glob\n",
    "import subprocess\n",
    "import matplotlib\n",
    "import matplotlib.pyplot as plt\n",
    "plt.switch_backend('agg')\n",
    "%matplotlib inline"
   ]
  },
  {
   "cell_type": "code",
   "execution_count": null,
   "metadata": {},
   "outputs": [],
   "source": [
    "def run_qvp(radar_file_path, fields):\n",
    "    \"\"\"For dask we need the radar plotting routines all in one subroutine\"\"\"\n",
    "    try:\n",
    "        radar = pyart.io.read(radar_file_path)\n",
    "    except OSError:\n",
    "        return\n",
    "    \n",
    "    radar_start_date = netCDF4.num2date(radar.time['data'][0], \n",
    "                                        radar.time['units'])\n",
    "    time = datetime.datetime.strftime(radar_start_date, '%Y-%m-%dT%H:%M:%S')\n",
    "    date = datetime.datetime.strftime(radar_start_date, '%Y%m%d')\n",
    "    \n",
    "    \n",
    "    qvp = pyart.retrieve.quasi_vertical_profile(radar, fields=fields)\n",
    "    \n",
    "    \n",
    "    data = xarray.Dataset()\n",
    "    data['time'] = time\n",
    "    data['height'] = qvp['height']\n",
    "    data['temperature'] = qvp['temperature']\n",
    "    data['specific_attenuation_reflectivity'] = qvp['specific_attenuation_reflectivity']\n",
    "    data['specific_attenuation_differential_reflectivity'] = qvp['specific_attenuation_differential_reflectivity']\n",
    "    data['radar_echo_classification'] = qvp['radar_echo_classification']\n",
    "    data['radar_estimated_rain_rate'] = qvp['radar_estimated_rain_rate']\n",
    "    data['D0'] = qvp['D0']\n",
    "    data['NW'] = qvp['NW']\n",
    "    data['velocity'] = qvp['velocity']\n",
    "    data['region_dealias_velocity'] = qvp['region_dealias_velocity']\n",
    "    data['velocity_texture'] = qvp['velocity_texture']\n",
    "    data['total_power'] = qvp['total_power']\n",
    "    data['reflectivity'] = qvp['reflectivity']\n",
    "    data['cross_correlation_ratio'] = qvp['cross_correlation_ratio']\n",
    "    data['differential_reflectivity'] = qvp['differential_reflectivity']\n",
    "    data['corrected_differential_reflectivity'] = qvp['corrected_differential_reflectivity']\n",
    "    data['differential_phase'] = qvp['differential_phase']\n",
    "    data['corrected_differential_phase'] = qvp['corrected_differential_phase']\n",
    "    data['corrected_specific_differential_phase'] = qvp['corrected_specific_differential_phase']\n",
    "    data['spectrum_width'] = qvp['spectrum_width']\n",
    "    data['signal_to_noise_ratio'] = qvp['signal_to_noise_ratio']\n",
    "    \n",
    "    data.to_netcdf('/lcrc/group/earthscience/radar/xsapr_sgp/vads/qvp_out/cpol_qvp/qvp_' + str(time) + '.nc')\n",
    "    data.close()\n",
    "    del radar\n",
    "    del qvp\n",
    "\n",
    "    return"
   ]
  },
  {
   "cell_type": "code",
   "execution_count": null,
   "metadata": {},
   "outputs": [],
   "source": [
    "radar_path = '/lcrc/group/earthscience/radar/CPOL_level_1b/PPI/2006/20060124/'\n",
    "fields = None\n",
    "gatefilter = None\n",
    "#radar_tilt = 20.0"
   ]
  },
  {
   "cell_type": "code",
   "execution_count": null,
   "metadata": {},
   "outputs": [],
   "source": [
    "if os.path.isdir(radar_path):\n",
    "    radar_files = glob.glob(radar_path + '/**/*', recursive=True)\n",
    "\n",
    "elif os.path.isfile(radar_path):\n",
    "    with open(radar_path) as f:\n",
    "        radar_files = f.readlines()\n",
    "    radar_files = [x.strip() for x in radar_files]\n",
    "else:\n",
    "    raise IOError('The specified radar path does not exist!')"
   ]
  },
  {
   "cell_type": "code",
   "execution_count": null,
   "metadata": {},
   "outputs": [],
   "source": [
    "radar_files"
   ]
  },
  {
   "cell_type": "code",
   "execution_count": null,
   "metadata": {},
   "outputs": [],
   "source": [
    "print(len(radar_files))"
   ]
  },
  {
   "cell_type": "code",
   "execution_count": null,
   "metadata": {},
   "outputs": [],
   "source": [
    "cluster = SLURMCluster(cores=8, job_cpu=8, walltime='01:00:00', memory='128GB', \n",
    "                      local_dir='/home/jhemedinger/dask_worker_space/', project='ACPC')\n",
    "                     #scheduler_file='/home/zsherman/scheduler.json'\n",
    "cluster.scale(8)         # Ask for ten workers\n",
    "client = Client(cluster)  # Connect this local process to remote workers"
   ]
  },
  {
   "cell_type": "code",
   "execution_count": null,
   "metadata": {},
   "outputs": [],
   "source": [
    "cluster"
   ]
  },
  {
   "cell_type": "code",
   "execution_count": null,
   "metadata": {},
   "outputs": [],
   "source": [
    "client"
   ]
  },
  {
   "cell_type": "code",
   "execution_count": null,
   "metadata": {},
   "outputs": [],
   "source": [
    "the_bag = db.from_sequence(radar_files)\n",
    "the_function = lambda x: run_qvp(x, fields=fields)\n",
    "futures = the_bag.map(the_function)"
   ]
  },
  {
   "cell_type": "code",
   "execution_count": null,
   "metadata": {},
   "outputs": [],
   "source": [
    "futures.compute()"
   ]
  },
  {
   "cell_type": "code",
   "execution_count": null,
   "metadata": {},
   "outputs": [],
   "source": [
    "cluster.stop_all_jobs()"
   ]
  },
  {
   "cell_type": "code",
   "execution_count": null,
   "metadata": {},
   "outputs": [],
   "source": [
    "files = glob.glob('/lcrc/group/earthscience/radar/xsapr_sgp/vads/qvp_out/cpol_qvp//*')\n",
    "files.sort()\n",
    "print(files)\n",
    "print(len(files))"
   ]
  },
  {
   "cell_type": "code",
   "execution_count": null,
   "metadata": {},
   "outputs": [],
   "source": [
    "time = []\n",
    "height = []\n",
    "temperature = []\n",
    "specific_attenuation_reflectivity = []\n",
    "specific_attenuation_differential_reflectivity = []\n",
    "radar_echo_classification = []\n",
    "radar_estimated_rain_rate = []\n",
    "D0 = []\n",
    "NW = []\n",
    "velocity = []\n",
    "region_dealias_velocity = []\n",
    "velocity_texture = []\n",
    "total_power = []\n",
    "reflectivity = []\n",
    "cross_correlation_ratio = []\n",
    "differential_reflectivity = []\n",
    "corrected_differential_reflectivity = []\n",
    "differential_phase = []\n",
    "corrected_differential_phase = []\n",
    "corrected_specific_differential_phase = []\n",
    "spectrum_width = [] \n",
    "signal_to_noise_ratio = []"
   ]
  },
  {
   "cell_type": "code",
   "execution_count": null,
   "metadata": {},
   "outputs": [],
   "source": [
    "for file in files:\n",
    "    ds = netCDF4.Dataset(file)\n",
    "    t = ds['time'][:]\n",
    "    hght = ds['height'][:]\n",
    "    #sar = ['specific_attenuation_reflectivity'][:]\n",
    "    #sadr = ['specific_attenuation_differential_reflectivity'][:]\n",
    "    rec = ds['radar_echo_classification'][:]\n",
    "    rerr = ds['radar_estimated_rain_rate'][:]\n",
    "    d0 = ds['D0'][:]\n",
    "    nw = ds['NW'][:]\n",
    "    vel = ds['velocity'][:]\n",
    "    #rdv = ds['region_dealias_velocity'][:]\n",
    "    vt = ds['velocity_texture'][:]\n",
    "    tp = ds['total_power'][:]\n",
    "    ref = ds['reflectivity'][:]\n",
    "    cc = ds['cross_correlation_ratio'][:]\n",
    "    zdr = ds['differential_reflectivity'][:]\n",
    "    czdr = ds['corrected_differential_reflectivity'][:]\n",
    "    dp = ds['differential_phase'][:]\n",
    "    cdp = ds['corrected_differential_phase'][:]\n",
    "    csdp = ds['corrected_specific_differential_phase'][:]\n",
    "    sw = ds['spectrum_width'][:]\n",
    "    stnr = ds['signal_to_noise_ratio'][:]\n",
    "    \n",
    "    time.append(t)\n",
    "    height.append(hght)\n",
    "    #specific_attenuation_reflectivity(sar)\n",
    "    #specific_attenuation_differential_reflectivity(sadr)\n",
    "    radar_echo_classification.append(rec)\n",
    "    radar_estimated_rain_rate.append(rerr)\n",
    "    D0.append(d0)\n",
    "    NW.append(nw)\n",
    "    #region_dealias_velocity(rdv)\n",
    "    velocity.append(vel)\n",
    "    velocity_texture.append(vt)\n",
    "    total_power.append(tp)\n",
    "    reflectivity.append(ref)\n",
    "    cross_correlation_ratio.append(cc)\n",
    "    differential_reflectivity.append(zdr)\n",
    "    corrected_differential_reflectivity.append(czdr)\n",
    "    differential_phase.append(dp)\n",
    "    corrected_differential_phase.append(cdp)\n",
    "    corrected_specific_differential_phase.append(csdp)\n",
    "    spectrum_width.append(sw)\n",
    "    signal_to_noise_ratio.append(stnr)"
   ]
  },
  {
   "cell_type": "code",
   "execution_count": null,
   "metadata": {},
   "outputs": [],
   "source": [
    "new_t = np.array(time, dtype='datetime64[ns]')\n",
    "print(new_t.shape)"
   ]
  },
  {
   "cell_type": "code",
   "execution_count": null,
   "metadata": {},
   "outputs": [],
   "source": [
    "new_time = np.array(time, dtype='datetime64[ns]')\n",
    "new_height = np.array(hght)\n",
    "new_rec = np.array(radar_echo_classification)\n",
    "new_rerr = np.array(radar_estimated_rain_rate)\n",
    "new_D0 = np.array(D0)\n",
    "new_NW = np.array(NW)\n",
    "new_vel = np.array(velocity)\n",
    "new_vt = np.array(velocity_texture)\n",
    "new_tp = np.array(total_power)\n",
    "new_ref = np.array(reflectivity)\n",
    "new_cc = np.array(cross_correlation_ratio)\n",
    "new_zdr = np.array(differential_reflectivity)\n",
    "new_czdr = np.array(corrected_differential_reflectivity)\n",
    "new_dp = np.array(differential_phase)\n",
    "new_cdp = np.array(corrected_differential_phase)\n",
    "new_csdp = np.array(corrected_specific_differential_phase)\n",
    "new_sw = np.array(spectrum_width)\n",
    "new_stnr = np.array(signal_to_noise_ratio)"
   ]
  },
  {
   "cell_type": "code",
   "execution_count": null,
   "metadata": {},
   "outputs": [],
   "source": [
    "print(new_time.shape)\n",
    "print(new_height.shape)\n",
    "print(new_ref.shape)"
   ]
  },
  {
   "cell_type": "code",
   "execution_count": null,
   "metadata": {},
   "outputs": [],
   "source": [
    "fig = plt.figure(figsize=[15,5])\n",
    "ax = plt.gca()\n",
    "#ax.xaxis_date()\n",
    "cmap = pyart.graph.cm_colorblind.HomeyerRainbow\n",
    "#for i in range(10):\n",
    "    #Xq, Yq = np.meshgrid(new_time[i], new_height/1000)\n",
    "    \n",
    "    \n",
    "img = plt.pcolormesh(new_time, new_height/1000, new_ref.transpose(), \n",
    "                     cmap=cmap, vmin=-20, vmax=64)\n",
    "plt.xlabel('Time (UTC)')\n",
    "plt.ylabel('Height (km)')\n",
    "plt.ylim([0,20])\n",
    "plt.xticks(rotation=45)\n",
    "plt.title('Reflectivity QVP')\n",
    "cb = plt.colorbar(img, cmap=cmap)\n",
    "cb.set_label('Mean Reflectivity Factor (dBZ)')\n",
    "#plt.savefig('ref_with_gate_id_zdr>1gatefilter.png', dpi=300)\n",
    "plt.show()"
   ]
  },
  {
   "cell_type": "code",
   "execution_count": null,
   "metadata": {},
   "outputs": [],
   "source": []
  }
 ],
 "metadata": {
  "kernelspec": {
   "display_name": "Python 3",
   "language": "python",
   "name": "python3"
  },
  "language_info": {
   "codemirror_mode": {
    "name": "ipython",
    "version": 3
   },
   "file_extension": ".py",
   "mimetype": "text/x-python",
   "name": "python",
   "nbconvert_exporter": "python",
   "pygments_lexer": "ipython3",
   "version": "3.6.6"
  }
 },
 "nbformat": 4,
 "nbformat_minor": 2
}
